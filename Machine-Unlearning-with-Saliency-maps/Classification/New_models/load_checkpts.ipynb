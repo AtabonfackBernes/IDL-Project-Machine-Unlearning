{
 "cells": [
  {
   "cell_type": "code",
   "execution_count": 2,
   "metadata": {},
   "outputs": [],
   "source": [
    "import torch"
   ]
  },
  {
   "cell_type": "code",
   "execution_count": 3,
   "metadata": {},
   "outputs": [],
   "source": [
    "def load_checkpoint_and_print_metrics(checkpoint_path):\n",
    "    # Load the checkpoint\n",
    "    checkpoint = torch.load(checkpoint_path)\n",
    "    \n",
    "    # Check if the checkpoint contains evaluation results\n",
    "    if \"evaluation_result\" in checkpoint:\n",
    "        evaluation_result = checkpoint[\"evaluation_result\"]\n",
    "    else:\n",
    "        print(\"No evaluation results found in the checkpoint.\")\n",
    "        return\n",
    "\n",
    "    # Print the metrics\n",
    "    for metric, value in evaluation_result.items():\n",
    "        print(f\"{metric}: {value}\")\n"
   ]
  },
  {
   "cell_type": "markdown",
   "metadata": {},
   "source": [
    "# Step Size = 50"
   ]
  },
  {
   "cell_type": "markdown",
   "metadata": {},
   "source": [
    "InSalUn RL"
   ]
  },
  {
   "cell_type": "code",
   "execution_count": 4,
   "metadata": {},
   "outputs": [
    {
     "name": "stdout",
     "output_type": "stream",
     "text": [
      "accuracy: {'retain': 99.47407407407407, 'forget': 99.53333337402344, 'val': 94.83999986572266, 'test': 94.68}\n",
      "SVC_MIA_forget_efficacy: {'correctness': np.float64(0.004666666666666708), 'confidence': np.float64(0.016888888888888842), 'entropy': np.float64(0.046666666666666634), 'm_entropy': np.float64(0.16266666666666663), 'prob': np.float64(0.011333333333333306)}\n"
     ]
    },
    {
     "name": "stderr",
     "output_type": "stream",
     "text": [
      "/tmp/ipykernel_44135/1409105207.py:3: FutureWarning: You are using `torch.load` with `weights_only=False` (the current default value), which uses the default pickle module implicitly. It is possible to construct malicious pickle data which will execute arbitrary code during unpickling (See https://github.com/pytorch/pytorch/blob/main/SECURITY.md#untrusted-models for more details). In a future release, the default value for `weights_only` will be flipped to `True`. This limits the functions that could be executed during unpickling. Arbitrary objects will no longer be allowed to be loaded via this mode unless they are explicitly allowlisted by the user via `torch.serialization.add_safe_globals`. We recommend you start setting `weights_only=True` for any use case where you don't have full control of the loaded file. Please open an issue on GitHub for any issues related to this experimental feature.\n",
      "  checkpoint = torch.load(checkpoint_path)\n"
     ]
    }
   ],
   "source": [
    "path = \"/home/ubuntu/Project/IDL-Project-Machine-Unlearning/Machine-Unlearning-with-Saliency-maps/Classification/InSalUn/Output_50_step/RL_InSalUn/RLcheckpoint.pth.tar\"\n",
    "\n",
    "load_checkpoint_and_print_metrics(path)"
   ]
  },
  {
   "cell_type": "markdown",
   "metadata": {},
   "source": [
    "InSalUn FT"
   ]
  },
  {
   "cell_type": "code",
   "execution_count": 5,
   "metadata": {},
   "outputs": [
    {
     "name": "stdout",
     "output_type": "stream",
     "text": [
      "accuracy: {'retain': 99.46666666666667, 'forget': 99.53333333333333, 'val': 94.79999986572265, 'test': 94.72}\n",
      "SVC_MIA_forget_efficacy: {'correctness': np.float64(0.004666666666666708), 'confidence': np.float64(0.01577777777777778), 'entropy': np.float64(0.046666666666666634), 'm_entropy': np.float64(0.10822222222222222), 'prob': np.float64(0.009777777777777774)}\n"
     ]
    },
    {
     "name": "stderr",
     "output_type": "stream",
     "text": [
      "/tmp/ipykernel_44135/1409105207.py:3: FutureWarning: You are using `torch.load` with `weights_only=False` (the current default value), which uses the default pickle module implicitly. It is possible to construct malicious pickle data which will execute arbitrary code during unpickling (See https://github.com/pytorch/pytorch/blob/main/SECURITY.md#untrusted-models for more details). In a future release, the default value for `weights_only` will be flipped to `True`. This limits the functions that could be executed during unpickling. Arbitrary objects will no longer be allowed to be loaded via this mode unless they are explicitly allowlisted by the user via `torch.serialization.add_safe_globals`. We recommend you start setting `weights_only=True` for any use case where you don't have full control of the loaded file. Please open an issue on GitHub for any issues related to this experimental feature.\n",
      "  checkpoint = torch.load(checkpoint_path)\n"
     ]
    }
   ],
   "source": [
    "path = \"/home/ubuntu/Project/IDL-Project-Machine-Unlearning/Machine-Unlearning-with-Saliency-maps/Classification/InSalUn/Output_50_step/FT_InSalUn/FTcheckpoint.pth.tar\"\n",
    "\n",
    "load_checkpoint_and_print_metrics(path)"
   ]
  },
  {
   "cell_type": "markdown",
   "metadata": {},
   "source": [
    "InSalUn IU"
   ]
  },
  {
   "cell_type": "code",
   "execution_count": 6,
   "metadata": {},
   "outputs": [
    {
     "name": "stdout",
     "output_type": "stream",
     "text": [
      "accuracy: {'retain': 99.47160493827161, 'forget': 99.53333333333333, 'val': 94.81999986572265, 'test': 94.6}\n",
      "SVC_MIA_forget_efficacy: {'correctness': np.float64(0.004666666666666708), 'confidence': np.float64(0.011777777777777776), 'entropy': np.float64(0.027111111111111086), 'm_entropy': np.float64(0.14066666666666672), 'prob': np.float64(0.20866666666666667)}\n"
     ]
    },
    {
     "name": "stderr",
     "output_type": "stream",
     "text": [
      "/tmp/ipykernel_44135/1409105207.py:3: FutureWarning: You are using `torch.load` with `weights_only=False` (the current default value), which uses the default pickle module implicitly. It is possible to construct malicious pickle data which will execute arbitrary code during unpickling (See https://github.com/pytorch/pytorch/blob/main/SECURITY.md#untrusted-models for more details). In a future release, the default value for `weights_only` will be flipped to `True`. This limits the functions that could be executed during unpickling. Arbitrary objects will no longer be allowed to be loaded via this mode unless they are explicitly allowlisted by the user via `torch.serialization.add_safe_globals`. We recommend you start setting `weights_only=True` for any use case where you don't have full control of the loaded file. Please open an issue on GitHub for any issues related to this experimental feature.\n",
      "  checkpoint = torch.load(checkpoint_path)\n"
     ]
    }
   ],
   "source": [
    "path = \"/home/ubuntu/Project/IDL-Project-Machine-Unlearning/Machine-Unlearning-with-Saliency-maps/Classification/InSalUn/Output_50_step/IU_InSalUn/wfishercheckpoint.pth.tar\"\n",
    "\n",
    "load_checkpoint_and_print_metrics(path)"
   ]
  },
  {
   "cell_type": "markdown",
   "metadata": {},
   "source": [
    "# Step Size = 100"
   ]
  },
  {
   "cell_type": "markdown",
   "metadata": {},
   "source": [
    "InSalUn RL"
   ]
  },
  {
   "cell_type": "code",
   "execution_count": 7,
   "metadata": {},
   "outputs": [
    {
     "name": "stdout",
     "output_type": "stream",
     "text": [
      "accuracy: {'retain': 99.47407407407407, 'forget': 99.53333337402344, 'val': 94.83999986572266, 'test': 94.68}\n",
      "SVC_MIA_forget_efficacy: {'correctness': np.float64(0.004666666666666708), 'confidence': np.float64(0.016888888888888842), 'entropy': np.float64(0.046666666666666634), 'm_entropy': np.float64(0.16266666666666663), 'prob': np.float64(0.011333333333333306)}\n"
     ]
    },
    {
     "name": "stderr",
     "output_type": "stream",
     "text": [
      "/tmp/ipykernel_44135/1409105207.py:3: FutureWarning: You are using `torch.load` with `weights_only=False` (the current default value), which uses the default pickle module implicitly. It is possible to construct malicious pickle data which will execute arbitrary code during unpickling (See https://github.com/pytorch/pytorch/blob/main/SECURITY.md#untrusted-models for more details). In a future release, the default value for `weights_only` will be flipped to `True`. This limits the functions that could be executed during unpickling. Arbitrary objects will no longer be allowed to be loaded via this mode unless they are explicitly allowlisted by the user via `torch.serialization.add_safe_globals`. We recommend you start setting `weights_only=True` for any use case where you don't have full control of the loaded file. Please open an issue on GitHub for any issues related to this experimental feature.\n",
      "  checkpoint = torch.load(checkpoint_path)\n"
     ]
    }
   ],
   "source": [
    "path = \"/home/ubuntu/Project/IDL-Project-Machine-Unlearning/Machine-Unlearning-with-Saliency-maps/Classification/InSalUn/Output_100_step/RL_InSalUn/RLcheckpoint.pth.tar\"\n",
    "\n",
    "load_checkpoint_and_print_metrics(path)"
   ]
  },
  {
   "cell_type": "markdown",
   "metadata": {},
   "source": [
    "InSalUn FT"
   ]
  },
  {
   "cell_type": "code",
   "execution_count": 8,
   "metadata": {},
   "outputs": [
    {
     "name": "stdout",
     "output_type": "stream",
     "text": [
      "accuracy: {'retain': 99.46666666666667, 'forget': 99.53333333333333, 'val': 94.79999986572265, 'test': 94.72}\n",
      "SVC_MIA_forget_efficacy: {'correctness': np.float64(0.004666666666666708), 'confidence': np.float64(0.01577777777777778), 'entropy': np.float64(0.046666666666666634), 'm_entropy': np.float64(0.10822222222222222), 'prob': np.float64(0.009777777777777774)}\n"
     ]
    },
    {
     "name": "stderr",
     "output_type": "stream",
     "text": [
      "/tmp/ipykernel_44135/1409105207.py:3: FutureWarning: You are using `torch.load` with `weights_only=False` (the current default value), which uses the default pickle module implicitly. It is possible to construct malicious pickle data which will execute arbitrary code during unpickling (See https://github.com/pytorch/pytorch/blob/main/SECURITY.md#untrusted-models for more details). In a future release, the default value for `weights_only` will be flipped to `True`. This limits the functions that could be executed during unpickling. Arbitrary objects will no longer be allowed to be loaded via this mode unless they are explicitly allowlisted by the user via `torch.serialization.add_safe_globals`. We recommend you start setting `weights_only=True` for any use case where you don't have full control of the loaded file. Please open an issue on GitHub for any issues related to this experimental feature.\n",
      "  checkpoint = torch.load(checkpoint_path)\n"
     ]
    }
   ],
   "source": [
    "path = \"/home/ubuntu/Project/IDL-Project-Machine-Unlearning/Machine-Unlearning-with-Saliency-maps/Classification/InSalUn/Output_100_step/FT_InSalUn/FTcheckpoint.pth.tar\"\n",
    "\n",
    "load_checkpoint_and_print_metrics(path)"
   ]
  },
  {
   "cell_type": "markdown",
   "metadata": {},
   "source": [
    "InSalUn IU"
   ]
  },
  {
   "cell_type": "code",
   "execution_count": 9,
   "metadata": {},
   "outputs": [
    {
     "name": "stdout",
     "output_type": "stream",
     "text": [
      "accuracy: {'retain': 99.47160493827161, 'forget': 99.53333333333333, 'val': 94.81999986572265, 'test': 94.6}\n",
      "SVC_MIA_forget_efficacy: {'correctness': np.float64(0.004666666666666708), 'confidence': np.float64(0.011777777777777776), 'entropy': np.float64(0.027111111111111086), 'm_entropy': np.float64(0.14066666666666672), 'prob': np.float64(0.20866666666666667)}\n"
     ]
    },
    {
     "name": "stderr",
     "output_type": "stream",
     "text": [
      "/tmp/ipykernel_44135/1409105207.py:3: FutureWarning: You are using `torch.load` with `weights_only=False` (the current default value), which uses the default pickle module implicitly. It is possible to construct malicious pickle data which will execute arbitrary code during unpickling (See https://github.com/pytorch/pytorch/blob/main/SECURITY.md#untrusted-models for more details). In a future release, the default value for `weights_only` will be flipped to `True`. This limits the functions that could be executed during unpickling. Arbitrary objects will no longer be allowed to be loaded via this mode unless they are explicitly allowlisted by the user via `torch.serialization.add_safe_globals`. We recommend you start setting `weights_only=True` for any use case where you don't have full control of the loaded file. Please open an issue on GitHub for any issues related to this experimental feature.\n",
      "  checkpoint = torch.load(checkpoint_path)\n"
     ]
    }
   ],
   "source": [
    "path = \"/home/ubuntu/Project/IDL-Project-Machine-Unlearning/Machine-Unlearning-with-Saliency-maps/Classification/InSalUn/Output_100_step/IU_InSalUn/wfishercheckpoint.pth.tar\"\n",
    "\n",
    "load_checkpoint_and_print_metrics(path)"
   ]
  },
  {
   "cell_type": "markdown",
   "metadata": {},
   "source": [
    "# Step Size = 200"
   ]
  },
  {
   "cell_type": "markdown",
   "metadata": {},
   "source": [
    "InSalUn RL"
   ]
  },
  {
   "cell_type": "code",
   "execution_count": 10,
   "metadata": {},
   "outputs": [
    {
     "name": "stdout",
     "output_type": "stream",
     "text": [
      "accuracy: {'retain': 99.47160493827161, 'forget': 99.53333333333333, 'val': 94.81999986572265, 'test': 94.6}\n",
      "SVC_MIA_forget_efficacy: {'correctness': np.float64(0.004666666666666708), 'confidence': np.float64(0.011777777777777776), 'entropy': np.float64(0.027111111111111086), 'm_entropy': np.float64(0.14066666666666672), 'prob': np.float64(0.20866666666666667)}\n"
     ]
    },
    {
     "name": "stderr",
     "output_type": "stream",
     "text": [
      "/tmp/ipykernel_44135/1409105207.py:3: FutureWarning: You are using `torch.load` with `weights_only=False` (the current default value), which uses the default pickle module implicitly. It is possible to construct malicious pickle data which will execute arbitrary code during unpickling (See https://github.com/pytorch/pytorch/blob/main/SECURITY.md#untrusted-models for more details). In a future release, the default value for `weights_only` will be flipped to `True`. This limits the functions that could be executed during unpickling. Arbitrary objects will no longer be allowed to be loaded via this mode unless they are explicitly allowlisted by the user via `torch.serialization.add_safe_globals`. We recommend you start setting `weights_only=True` for any use case where you don't have full control of the loaded file. Please open an issue on GitHub for any issues related to this experimental feature.\n",
      "  checkpoint = torch.load(checkpoint_path)\n"
     ]
    }
   ],
   "source": [
    "path = \"/home/ubuntu/Project/IDL-Project-Machine-Unlearning/Machine-Unlearning-with-Saliency-maps/Classification/InSalUn/Output_200_step/IU_InSalUn/wfishercheckpoint.pth.tar\"\n",
    "\n",
    "load_checkpoint_and_print_metrics(path)"
   ]
  },
  {
   "cell_type": "markdown",
   "metadata": {},
   "source": [
    "InSalUn FT"
   ]
  },
  {
   "cell_type": "code",
   "execution_count": 11,
   "metadata": {},
   "outputs": [
    {
     "name": "stdout",
     "output_type": "stream",
     "text": [
      "accuracy: {'retain': 99.46666666666667, 'forget': 99.53333333333333, 'val': 94.79999986572265, 'test': 94.72}\n",
      "SVC_MIA_forget_efficacy: {'correctness': np.float64(0.004666666666666708), 'confidence': np.float64(0.01577777777777778), 'entropy': np.float64(0.046666666666666634), 'm_entropy': np.float64(0.10822222222222222), 'prob': np.float64(0.009777777777777774)}\n"
     ]
    },
    {
     "name": "stderr",
     "output_type": "stream",
     "text": [
      "/tmp/ipykernel_44135/1409105207.py:3: FutureWarning: You are using `torch.load` with `weights_only=False` (the current default value), which uses the default pickle module implicitly. It is possible to construct malicious pickle data which will execute arbitrary code during unpickling (See https://github.com/pytorch/pytorch/blob/main/SECURITY.md#untrusted-models for more details). In a future release, the default value for `weights_only` will be flipped to `True`. This limits the functions that could be executed during unpickling. Arbitrary objects will no longer be allowed to be loaded via this mode unless they are explicitly allowlisted by the user via `torch.serialization.add_safe_globals`. We recommend you start setting `weights_only=True` for any use case where you don't have full control of the loaded file. Please open an issue on GitHub for any issues related to this experimental feature.\n",
      "  checkpoint = torch.load(checkpoint_path)\n"
     ]
    }
   ],
   "source": [
    "path = \"/home/ubuntu/Project/IDL-Project-Machine-Unlearning/Machine-Unlearning-with-Saliency-maps/Classification/InSalUn/Output_200_step/FT_InSalUn/FTcheckpoint.pth.tar\"\n",
    "\n",
    "load_checkpoint_and_print_metrics(path)"
   ]
  },
  {
   "cell_type": "markdown",
   "metadata": {},
   "source": [
    "InSalUn FT 20 epochs\n"
   ]
  },
  {
   "cell_type": "code",
   "execution_count": 13,
   "metadata": {},
   "outputs": [
    {
     "name": "stdout",
     "output_type": "stream",
     "text": [
      "accuracy: {'retain': 99.47407407407407, 'forget': 99.53333333333333, 'val': 94.83999997558594, 'test': 94.58}\n",
      "SVC_MIA_forget_efficacy: {'correctness': np.float64(0.004666666666666708), 'confidence': np.float64(0.030444444444444496), 'entropy': np.float64(0.03888888888888886), 'm_entropy': np.float64(0.11711111111111117), 'prob': np.float64(0.012222222222222245)}\n"
     ]
    },
    {
     "name": "stderr",
     "output_type": "stream",
     "text": [
      "/tmp/ipykernel_44135/1409105207.py:3: FutureWarning: You are using `torch.load` with `weights_only=False` (the current default value), which uses the default pickle module implicitly. It is possible to construct malicious pickle data which will execute arbitrary code during unpickling (See https://github.com/pytorch/pytorch/blob/main/SECURITY.md#untrusted-models for more details). In a future release, the default value for `weights_only` will be flipped to `True`. This limits the functions that could be executed during unpickling. Arbitrary objects will no longer be allowed to be loaded via this mode unless they are explicitly allowlisted by the user via `torch.serialization.add_safe_globals`. We recommend you start setting `weights_only=True` for any use case where you don't have full control of the loaded file. Please open an issue on GitHub for any issues related to this experimental feature.\n",
      "  checkpoint = torch.load(checkpoint_path)\n"
     ]
    }
   ],
   "source": [
    "path = \"/home/ubuntu/Project/IDL-Project-Machine-Unlearning/Machine-Unlearning-with-Saliency-maps/Classification/InSalUn/Output_10_step/FT_InSalUn/FTcheckpoint.pth.tar\"\n",
    "\n",
    "load_checkpoint_and_print_metrics(path)"
   ]
  },
  {
   "cell_type": "markdown",
   "metadata": {},
   "source": [
    "InSalUn IU"
   ]
  },
  {
   "cell_type": "code",
   "execution_count": 16,
   "metadata": {},
   "outputs": [
    {
     "name": "stdout",
     "output_type": "stream",
     "text": [
      "accuracy: {'retain': 99.47160493827161, 'forget': 99.53333333333333, 'val': 94.81999986572265, 'test': 94.6}\n",
      "SVC_MIA_forget_efficacy: {'correctness': np.float64(0.004666666666666708), 'confidence': np.float64(0.011777777777777776), 'entropy': np.float64(0.027111111111111086), 'm_entropy': np.float64(0.14066666666666672), 'prob': np.float64(0.20866666666666667)}\n"
     ]
    },
    {
     "name": "stderr",
     "output_type": "stream",
     "text": [
      "/tmp/ipykernel_13573/1409105207.py:3: FutureWarning: You are using `torch.load` with `weights_only=False` (the current default value), which uses the default pickle module implicitly. It is possible to construct malicious pickle data which will execute arbitrary code during unpickling (See https://github.com/pytorch/pytorch/blob/main/SECURITY.md#untrusted-models for more details). In a future release, the default value for `weights_only` will be flipped to `True`. This limits the functions that could be executed during unpickling. Arbitrary objects will no longer be allowed to be loaded via this mode unless they are explicitly allowlisted by the user via `torch.serialization.add_safe_globals`. We recommend you start setting `weights_only=True` for any use case where you don't have full control of the loaded file. Please open an issue on GitHub for any issues related to this experimental feature.\n",
      "  checkpoint = torch.load(checkpoint_path)\n"
     ]
    }
   ],
   "source": [
    "path = \"/home/ubuntu/Project/IDL-Project-Machine-Unlearning/Machine-Unlearning-with-Saliency-maps/Classification/InSalUn/Output_200_step/IU_InSalUn/wfishercheckpoint.pth.tar\"\n",
    "\n",
    "load_checkpoint_and_print_metrics(path)"
   ]
  },
  {
   "cell_type": "code",
   "execution_count": null,
   "metadata": {},
   "outputs": [],
   "source": []
  }
 ],
 "metadata": {
  "kernelspec": {
   "display_name": "DL_HW4_P2",
   "language": "python",
   "name": "python3"
  },
  "language_info": {
   "codemirror_mode": {
    "name": "ipython",
    "version": 3
   },
   "file_extension": ".py",
   "mimetype": "text/x-python",
   "name": "python",
   "nbconvert_exporter": "python",
   "pygments_lexer": "ipython3",
   "version": "3.11.9"
  }
 },
 "nbformat": 4,
 "nbformat_minor": 2
}
